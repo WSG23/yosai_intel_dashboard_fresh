{
 "cells": [
  {
   "cell_type": "markdown",
   "metadata": {},
   "source": ["# Graph Analysis Demo\n", "\n", "Simple example using the analytics graph utilities."]
  },
  {
   "cell_type": "code",
   "execution_count": null,
   "metadata": {},
   "outputs": [],
   "source": [
    "from analytics.graph_analysis import etl, algorithms\n",
    "logs = [\n",
    "    {\"person\": \"alice\", \"device\": \"laptop1\", \"access_point\": \"door1\", \"location\": \"hq\", \"timestamp\": 1.0},\n",
    "    {\"person\": \"bob\", \"device\": \"laptop2\", \"access_point\": \"door1\", \"location\": \"hq\", \"timestamp\": 2.0},\n",
    "]\n",
    "graph = etl.build_graph_from_logs(logs)\n",
    "algorithms.betweenness_centrality(graph)\n"
   ]
  }
 ],
 "metadata": {
  "kernelspec": {"name": "python3", "display_name": "Python 3"},
  "language_info": {"name": "python"}
 },
 "nbformat": 4,
 "nbformat_minor": 5
}
